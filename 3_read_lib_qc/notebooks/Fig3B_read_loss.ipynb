{
 "cells": [
  {
   "attachments": {},
   "cell_type": "markdown",
   "metadata": {},
   "source": [
    "# Note\n",
    "Some data required for generating the read loss figure was taken directly from the log files of STARRDUST. They have been imported from a csv file prepared manually. "
   ]
  },
  {
   "cell_type": "code",
   "execution_count": 1,
   "metadata": {},
   "outputs": [],
   "source": [
    "import pandas as pd\n",
    "import seaborn as sns\n",
    "from matplotlib.ticker import MultipleLocator\n",
    "import matplotlib\n",
    "import matplotlib.pyplot as plt\n",
    "matplotlib.rcParams['pdf.fonttype'] = 42\n",
    "matplotlib.rcParams['ps.fonttype'] = 42\n",
    "matplotlib.rcParams.update({'font.size': 12})\n",
    "from matplotlib.backends.backend_pdf import PdfPages"
   ]
  },
  {
   "attachments": {},
   "cell_type": "markdown",
   "metadata": {},
   "source": [
    "# Figure 3B"
   ]
  },
  {
   "cell_type": "code",
   "execution_count": 2,
   "metadata": {},
   "outputs": [
    {
     "data": {
      "image/png": "[encoded data removed]",
      "text/plain": [
       "<Figure size 576x576 with 1 Axes>"
      ]
     },
     "metadata": {
      "needs_background": "light"
     },
     "output_type": "display_data"
    }
   ],
   "source": [
    "boxdf = pd.read_csv('../data/in_house/RepCount-New.csv')\n",
    "\n",
    "# Define Canvas\n",
    "fig,ax = plt.subplots(1, 1, figsize=(8, 8))\n",
    "\n",
    "# Box Plot\n",
    "sns.boxplot(\n",
    "    data=boxdf,\n",
    "    color='#D1245D',# '#00ADEE', \n",
    "#     orient='h',\n",
    "    width=0.75,\n",
    "    linewidth=0.75,\n",
    "    fliersize=2.25,\n",
    "    ax=ax)\n",
    "\n",
    "# # Make Plot\n",
    "# sns.barplot(\n",
    "#     data=mandf,\n",
    "#     x='Paper',\n",
    "#     y='Score',\n",
    "#     ax=ax)\n",
    "\n",
    "# Adjust Axis\n",
    "ax.set_yticks(range(0, 66, 10))\n",
    "ax.set_ylim((0, 60))\n",
    "# ax.set_ylabel('Percentage')\n",
    "ax.set_xticklabels(\n",
    "    ax.get_xticklabels(),\n",
    "    rotation=90)\n",
    "# ax.set_ticklabels(\n",
    "#     [],\n",
    "#     rotation=90)\n",
    "\n",
    "# Remove Spines\n",
    "ax.spines['right'].set_visible(False)\n",
    "ax.spines['top'].set_visible(False)"
   ]
  },
  {
   "cell_type": "code",
   "execution_count": null,
   "metadata": {},
   "outputs": [],
   "source": []
  }
 ],
 "metadata": {
  "kernelspec": {
   "display_name": "starrseq",
   "language": "python",
   "name": "python3"
  },
  "language_info": {
   "codemirror_mode": {
    "name": "ipython",
    "version": 3
   },
   "file_extension": ".py",
   "mimetype": "text/x-python",
   "name": "python",
   "nbconvert_exporter": "python",
   "pygments_lexer": "ipython3",
   "version": "3.9.7"
  },
  "orig_nbformat": 4,
  "vscode": {
   "interpreter": {
    "hash": "06856c2527dea3cf472b3c4994ec564df76496982852535c5a9520cd26601212"
   }
  }
 },
 "nbformat": 4,
 "nbformat_minor": 2
}
