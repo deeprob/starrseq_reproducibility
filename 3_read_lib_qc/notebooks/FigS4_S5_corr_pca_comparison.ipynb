{
 "cells": [
  {
   "cell_type": "code",
   "execution_count": 2,
   "metadata": {},
   "outputs": [],
   "source": [
    "import os\n",
    "import numpy as np\n",
    "import pandas as pd\n",
    "import seaborn as sns\n",
    "from matplotlib.ticker import MultipleLocator\n",
    "import matplotlib\n",
    "import matplotlib.pyplot as plt\n",
    "matplotlib.rcParams['pdf.fonttype'] = 42\n",
    "matplotlib.rcParams['ps.fonttype'] = 42\n",
    "matplotlib.rcParams.update({'font.size': 12})\n",
    "from matplotlib.backends.backend_pdf import PdfPages\n",
    "from sklearn.decomposition import PCA\n",
    "import json\n",
    "from argparse import Namespace"
   ]
  },
  {
   "cell_type": "code",
   "execution_count": 3,
   "metadata": {},
   "outputs": [],
   "source": [
    "def read_and_extract_coverage(cov_bed):\n",
    "    df = pd.read_csv(cov_bed, sep=\"\\t\", header=None)\n",
    "    roi_depth = df.iloc[:, -4]\n",
    "    return roi_depth"
   ]
  },
  {
   "cell_type": "markdown",
   "metadata": {},
   "source": [
    "# Comparison of Library QC\n",
    "\n",
    "1. Within replicate pearson and spearman's correlation of coverage\n",
    "2. PCA plots"
   ]
  },
  {
   "attachments": {},
   "cell_type": "markdown",
   "metadata": {},
   "source": [
    "# In-house library"
   ]
  },
  {
   "cell_type": "code",
   "execution_count": 4,
   "metadata": {},
   "outputs": [],
   "source": [
    "meta_file = \"/data5/deepro/starrseq/data/meta_data/metadata.json\"\n",
    "all_lib_names = [\"input\", \"control\"]\n",
    "store_dir = \"/data5/deepro/starrseq/main_library/2_quality_control_lib/data/\""
   ]
  },
  {
   "cell_type": "code",
   "execution_count": 5,
   "metadata": {},
   "outputs": [],
   "source": [
    "def create_args(meta_file, lib_name):\n",
    "    with open(meta_file, \"r\") as f: \n",
    "        meta_dict = json.load(f)\n",
    "        \n",
    "    args = Namespace(\n",
    "        # from metadata file\n",
    "        library_prefix = meta_dict[lib_name][\"prefix\"],\n",
    "        library_reps = meta_dict[lib_name][\"replicates\"],\n",
    "        library_pair= meta_dict[lib_name][\"read_pairs\"],\n",
    "        library_umi = meta_dict[lib_name][\"umi\"],\n",
    "        library_suffix = meta_dict[lib_name][\"suffix\"],\n",
    "        library_short = meta_dict[lib_name][\"shortform\"],\n",
    "        reference_genome = meta_dict[\"genome\"][\"ref_fasta\"],\n",
    "        reference_genome_twobit = meta_dict[\"genome\"][\"ref_twobit\"],\n",
    "        genome_sizes = meta_dict[\"genome\"][\"chrom_sizes\"],\n",
    "        roi_file = meta_dict[\"roi\"][\"sorted\"],\n",
    "        roi_window_file = meta_dict[\"roi\"][\"window\"],\n",
    "    )\n",
    "\n",
    "    return args\n",
    "\n",
    "def get_depth_bed_filepaths(store_dir, lib_short, lib_prefix, lib_rep):\n",
    "    return os.path.join(store_dir, \"cov\", lib_short, f\"{lib_prefix}_{lib_rep}.bed\")\n",
    "\n",
    "def get_lib_depth_beds_filepaths(store_dir, lib_short, lib_prefix, lib_reps):\n",
    "    depth_beds = [get_depth_bed_filepaths(store_dir, lib_short, lib_prefix, lib_rep) for lib_rep in lib_reps.split()]\n",
    "    return depth_beds\n",
    "\n",
    "def get_meta_df(meta_file, all_lib_names, store_dir):\n",
    "    lib_dfs = []\n",
    "\n",
    "    for lib_name in all_lib_names:\n",
    "        lib_args = create_args(meta_file, lib_name)\n",
    "        lib_beds = get_lib_depth_beds_filepaths(store_dir, lib_args.library_short, lib_args.library_prefix, lib_args.library_reps)\n",
    "        lib_df = pd.concat(list(map(read_and_extract_coverage, lib_beds)), axis=1)\n",
    "        lib_df.columns = [f\"{lib_name.upper()} Rep {i}\" for i in range(1, len(lib_beds)+1)] \n",
    "        lib_dfs.append(lib_df)\n",
    "    meta_df = pd.concat([df for df in lib_dfs], axis=1) \n",
    "    return meta_df"
   ]
  },
  {
   "cell_type": "code",
   "execution_count": 6,
   "metadata": {},
   "outputs": [],
   "source": [
    "def get_within_lib_correlation(meta_df, cmethod):\n",
    "    melted_df = meta_df.corr(method=cmethod).reset_index().rename(columns={\"index\": \"variable_1\"}).melt(id_vars=[\"variable_1\"])\n",
    "    # filter same pair correlation\n",
    "    melted_df = melted_df.loc[melted_df.variable_1!=melted_df.variable]\n",
    "    # filter across library replicate\n",
    "    melted_df = melted_df.loc[melted_df.variable_1.str.split(expand=True).iloc[:, 0]==melted_df.variable.str.split(expand=True).iloc[:, 0]]\n",
    "    return melted_df"
   ]
  },
  {
   "cell_type": "code",
   "execution_count": 7,
   "metadata": {},
   "outputs": [],
   "source": [
    "our_lib_meta = get_meta_df(meta_file, all_lib_names, store_dir)\n"
   ]
  },
  {
   "cell_type": "code",
   "execution_count": 8,
   "metadata": {},
   "outputs": [],
   "source": [
    "our_lib_pcorr = get_within_lib_correlation(our_lib_meta, \"pearson\")\n",
    "our_lib_pcorr[\"dataset\"] = \"In-house dataset\"\n",
    "our_lib_scorr = get_within_lib_correlation(our_lib_meta, \"spearman\")\n",
    "our_lib_scorr[\"dataset\"] = \"In-house dataset\""
   ]
  },
  {
   "attachments": {},
   "cell_type": "markdown",
   "metadata": {},
   "source": [
    "# Wang et. al. library"
   ]
  },
  {
   "cell_type": "code",
   "execution_count": 9,
   "metadata": {},
   "outputs": [],
   "source": [
    "meta_file = \"/data5/deepro/starrseq/data/meta_data/wang_kellis_metadata.json\"\n",
    "all_lib_names = [\"input\", \"output\"]\n",
    "store_dir = \"/data5/deepro/starrseq/others/2_quality_control_lib/data/wang_kellis/with_dedup\""
   ]
  },
  {
   "cell_type": "code",
   "execution_count": 10,
   "metadata": {},
   "outputs": [],
   "source": [
    "wk_meta = get_meta_df(meta_file, all_lib_names, store_dir)"
   ]
  },
  {
   "cell_type": "code",
   "execution_count": 11,
   "metadata": {},
   "outputs": [],
   "source": [
    "wk_pcorr = get_within_lib_correlation(wk_meta, \"pearson\")\n",
    "wk_pcorr[\"dataset\"] = \"Wang_Kellis\"\n",
    "wk_scorr = get_within_lib_correlation(wk_meta, \"spearman\")\n",
    "wk_scorr[\"dataset\"] = \"Wang_Kellis\""
   ]
  },
  {
   "attachments": {},
   "cell_type": "markdown",
   "metadata": {},
   "source": [
    "# Johnson et. al. library"
   ]
  },
  {
   "cell_type": "code",
   "execution_count": 12,
   "metadata": {},
   "outputs": [],
   "source": [
    "meta_file = \"/data5/deepro/starrseq/data/meta_data/johnson_reddy_metadata.json\"\n",
    "all_lib_names = [\"input\", \"output\"]\n",
    "store_dir = \"/data5/deepro/starrseq/others/2_quality_control_lib/data/johnson_reddy/with_dedup\""
   ]
  },
  {
   "cell_type": "code",
   "execution_count": 13,
   "metadata": {},
   "outputs": [],
   "source": [
    "jr_meta = get_meta_df(meta_file, all_lib_names, store_dir)"
   ]
  },
  {
   "cell_type": "code",
   "execution_count": 14,
   "metadata": {},
   "outputs": [],
   "source": [
    "jr_pcorr = get_within_lib_correlation(jr_meta, \"pearson\")\n",
    "jr_pcorr[\"dataset\"] = \"Johnson_Reddy\"\n",
    "jr_scorr = get_within_lib_correlation(jr_meta, \"spearman\")\n",
    "jr_scorr[\"dataset\"] = \"Johnson_Reddy\""
   ]
  },
  {
   "cell_type": "code",
   "execution_count": 15,
   "metadata": {},
   "outputs": [],
   "source": [
    "pcorr_df = pd.concat([our_lib_pcorr, wk_pcorr, jr_pcorr])\n",
    "scorr_df = pd.concat([our_lib_scorr, wk_scorr, jr_scorr])"
   ]
  },
  {
   "cell_type": "code",
   "execution_count": 16,
   "metadata": {},
   "outputs": [],
   "source": [
    "pcorr_df[\"correlation\"] = \"pearson\"\n",
    "scorr_df[\"correlation\"] = \"spearman\""
   ]
  },
  {
   "cell_type": "code",
   "execution_count": 17,
   "metadata": {},
   "outputs": [],
   "source": [
    "corr_df = pd.concat([pcorr_df, scorr_df])"
   ]
  },
  {
   "attachments": {},
   "cell_type": "markdown",
   "metadata": {},
   "source": [
    "# Fig S4"
   ]
  },
  {
   "cell_type": "code",
   "execution_count": 18,
   "metadata": {},
   "outputs": [
    {
     "data": {
      "text/plain": [
       "<seaborn.axisgrid.FacetGrid at 0x7fca16deb880>"
      ]
     },
     "execution_count": 18,
     "metadata": {},
     "output_type": "execute_result"
    },
    {
     "data": {
      "image/png": "[encoded data removed]",
      "text/plain": [
       "<Figure size 648x432 with 2 Axes>"
      ]
     },
     "metadata": {
      "needs_background": "light"
     },
     "output_type": "display_data"
    }
   ],
   "source": [
    "sns_ax = sns.catplot(\n",
    "    data=corr_df, \n",
    "    x=\"dataset\", \n",
    "    y=\"value\", \n",
    "    kind=\"boxen\", \n",
    "    hue=\"dataset\",\n",
    "    col=\"correlation\",\n",
    "    aspect=0.75, \n",
    "    height=6, \n",
    "    dodge=True,\n",
    "    # edgecolor=\"k\",\n",
    "    palette=\"Paired\",\n",
    "    sharey=True\n",
    "    )\n",
    "\n",
    "sns_ax.axes[0][0].set_ylim((0, 1.05))\n",
    "sns_ax.axes[0][1].set_ylim((0, 1.05))\n",
    "sns_ax.set_xlabels(\"\")\n",
    "sns_ax.set_ylabels(\"\")\n"
   ]
  },
  {
   "cell_type": "markdown",
   "metadata": {},
   "source": [
    "# PCA plots comparison"
   ]
  },
  {
   "cell_type": "code",
   "execution_count": 19,
   "metadata": {},
   "outputs": [],
   "source": [
    "from sklearn.decomposition import PCA\n",
    "import pandas as pd\n",
    "import numpy as np\n",
    "\n",
    "df = pd.DataFrame(data=np.random.normal(0, 1, (50, 8)))\n",
    "\n",
    "\n",
    "pca = PCA(n_components=4).fit_transform(df)"
   ]
  },
  {
   "cell_type": "code",
   "execution_count": 20,
   "metadata": {},
   "outputs": [],
   "source": [
    "# load dataset\n",
    "from sklearn import datasets\n",
    "iris = datasets.load_iris()\n",
    "df = pd.DataFrame(iris.data, columns=iris.feature_names)\n",
    "\n",
    "# normalize data\n",
    "from sklearn import preprocessing\n",
    "data_scaled = pd.DataFrame(preprocessing.scale(df),columns = df.columns) \n",
    "\n",
    "# PCA\n",
    "pca = PCA(n_components=2).fit_transform(data_scaled)"
   ]
  },
  {
   "cell_type": "code",
   "execution_count": 21,
   "metadata": {},
   "outputs": [],
   "source": [
    "def get_pca_components(meta_df):\n",
    "    meta_df_norm = (meta_df-meta_df.mean())/meta_df.std()\n",
    "    pca = PCA(n_components=2)\n",
    "\n",
    "    components = pca.fit_transform(meta_df_norm.T)\n",
    "\n",
    "    pca_df = pd.DataFrame({\n",
    "        \"lib_info\": meta_df_norm.columns,\n",
    "        \"pca_comp1\": components[:, 0],\n",
    "        \"pca_comp2\": components[:, 1],\n",
    "        \"library\": [c.split()[0] for c in meta_df_norm.columns],\n",
    "        # \"alpha\": [(i+1)/len(components[:, 0]) for i in range(len(components[:, 0]))]\n",
    "    })\n",
    "\n",
    "    return pca_df\n",
    "\n",
    "\n",
    "def get_pca_plots(meta_dfs, dataset_names):\n",
    "\n",
    "    pca_dfs = [get_pca_components(mdf) for mdf in meta_dfs]\n",
    "    fig, ax = plt.subplots(1, len(meta_dfs), figsize=(18,6), sharex=True, sharey=True)\n",
    "    for i, pca_df in enumerate(pca_dfs):\n",
    "        sns.scatterplot(\n",
    "            data=pca_df, \n",
    "            x=\"pca_comp1\", \n",
    "            y=\"pca_comp2\", \n",
    "            hue=\"library\", \n",
    "            style=\"library\", \n",
    "            legend=True, \n",
    "            ax=ax[i], \n",
    "            s=100,\n",
    "            alpha=1.,\n",
    "            # linewidth=1.05,\n",
    "            # edgecolor=\"k\",\n",
    "            # linestyle='--',\n",
    "            )\n",
    "        ax[i].set_title(dataset_names[i])\n",
    "        ax[i].legend(loc=\"upper left\")\n",
    "\n",
    "    return fig"
   ]
  },
  {
   "attachments": {},
   "cell_type": "markdown",
   "metadata": {},
   "source": [
    "# Fig S5"
   ]
  },
  {
   "cell_type": "code",
   "execution_count": 22,
   "metadata": {},
   "outputs": [
    {
     "data": {
      "image/png": "[encoded data removed]",
      "text/plain": [
       "<Figure size 1296x432 with 3 Axes>"
      ]
     },
     "metadata": {
      "needs_background": "light"
     },
     "output_type": "display_data"
    }
   ],
   "source": [
    "f = get_pca_plots([our_lib_meta, wk_meta, jr_meta], [\"In-house dataset\", \"Wang_Kellis\", \"Johnson_Reddy\"])\n"
   ]
  },
  {
   "cell_type": "code",
   "execution_count": null,
   "metadata": {},
   "outputs": [],
   "source": []
  }
 ],
 "metadata": {
  "kernelspec": {
   "display_name": "Python 3.9.7 ('starrseq': conda)",
   "language": "python",
   "name": "python3"
  },
  "language_info": {
   "codemirror_mode": {
    "name": "ipython",
    "version": 3
   },
   "file_extension": ".py",
   "mimetype": "text/x-python",
   "name": "python",
   "nbconvert_exporter": "python",
   "pygments_lexer": "ipython3",
   "version": "3.9.7 | packaged by conda-forge | (default, Sep 29 2021, 19:20:46) \n[GCC 9.4.0]"
  },
  "orig_nbformat": 4,
  "vscode": {
   "interpreter": {
    "hash": "06856c2527dea3cf472b3c4994ec564df76496982852535c5a9520cd26601212"
   }
  }
 },
 "nbformat": 4,
 "nbformat_minor": 2
}
