{
 "cells": [
  {
   "cell_type": "code",
   "execution_count": 1,
   "metadata": {},
   "outputs": [],
   "source": [
    "import os\n",
    "import pandas as pd\n",
    "import seaborn as sns\n",
    "from matplotlib.ticker import MultipleLocator\n",
    "import matplotlib\n",
    "import matplotlib.pyplot as plt\n",
    "matplotlib.rcParams['pdf.fonttype'] = 42\n",
    "matplotlib.rcParams['ps.fonttype'] = 42\n",
    "matplotlib.rcParams.update({'font.size': 12})\n",
    "from matplotlib.backends.backend_pdf import PdfPages"
   ]
  },
  {
   "cell_type": "code",
   "execution_count": 2,
   "metadata": {},
   "outputs": [],
   "source": [
    "def rename_raw_reads(row):\n",
    "    rename_dict = {\"R1\": \"pair1\", \"R2\": \"pair2\"}\n",
    "    if row.read_type == \"raw_reads\":\n",
    "        split_rep = row.replicate.split(\"_\")\n",
    "        read_type = \"raw_reads\" + \"_\" + rename_dict[split_rep[-1]]\n",
    "        rep = \"_\".join(split_rep[:-1])\n",
    "    else:\n",
    "        read_type = row.read_type\n",
    "        rep = row.replicate\n",
    "\n",
    "    return pd.Series({\n",
    "        \"read_type\": read_type, \n",
    "        \"replicate\": rep, \n",
    "        \"read_num\": row.read_num\n",
    "        })\n"
   ]
  },
  {
   "cell_type": "markdown",
   "metadata": {},
   "source": [
    "# Our libraries"
   ]
  },
  {
   "cell_type": "code",
   "execution_count": 3,
   "metadata": {},
   "outputs": [],
   "source": [
    "### Put in place manually ###\n",
    "### Obtained directly from log files ###\n",
    "\n",
    "lib_names = [\"input\", \"control\"]\n",
    "\n",
    "read_qc_input_df = pd.DataFrame({\n",
    "    \"replicates\": [\n",
    "        \"rep_1\", \"rep_2\", \"rep_3\",\n",
    "        \"rep_1\", \"rep_2\", \"rep_3\",\n",
    "        \"rep_1\", \"rep_2\", \"rep_3\"\n",
    "        ],\n",
    "    \"read_type\": [\n",
    "        \"deduped_reads_pair1\", \"deduped_reads_pair1\", \"deduped_reads_pair1\", \n",
    "        \"lowqual_reads_pair1\", \"lowqual_reads_pair1\", \"lowqual_reads_pair1\",\n",
    "        \"filtered_reads_pair1\", \"filtered_reads_pair1\", \"filtered_reads_pair1\",\n",
    "        ],\n",
    "    \"reads_percent\": [\n",
    "        9.625557385, 9.575100803, 9.42483141,\n",
    "        15.74704739, 16.58508892, 16.81113742,\n",
    "        25.68510062, 25.38928658, 25.39172609\n",
    "        ]\n",
    "})\n",
    "\n",
    "read_qc_output_df = pd.DataFrame({\n",
    "    \"replicates\": [\n",
    "        \"rep_1\", \"rep_2\", \"rep_3\",\n",
    "        \"rep_1\", \"rep_2\", \"rep_3\",\n",
    "        \"rep_1\", \"rep_2\", \"rep_3\"\n",
    "        ],\n",
    "    \"read_type\": [\n",
    "        \"deduped_reads_pair1\", \"deduped_reads_pair1\", \"deduped_reads_pair1\", \n",
    "        \"lowqual_reads_pair1\", \"lowqual_reads_pair1\", \"lowqual_reads_pair1\",\n",
    "        \"filtered_reads_pair1\", \"filtered_reads_pair1\", \"filtered_reads_pair1\",\n",
    "        ],\n",
    "    \"reads_percent\": [\n",
    "        10.44290423, 9.804780338, 11.54857247,\n",
    "        18.06114546, 18.98664952, 18.41736294,\n",
    "        27.30255393, 27.28568978, 26.47057287,\n",
    "        ]\n",
    "})"
   ]
  },
  {
   "cell_type": "code",
   "execution_count": 4,
   "metadata": {},
   "outputs": [],
   "source": [
    "read_qc_input_df[\"library\"] = \"input\"\n",
    "read_qc_output_df[\"library\"] = \"output\"\n",
    "read_qc_df_our_lib = pd.concat([read_qc_input_df, read_qc_output_df])\n",
    "read_qc_df_our_lib[\"dataset\"] = \"In-house dataset\""
   ]
  },
  {
   "cell_type": "markdown",
   "metadata": {},
   "source": [
    "# Kellis Wang libraries"
   ]
  },
  {
   "cell_type": "code",
   "execution_count": 5,
   "metadata": {},
   "outputs": [],
   "source": [
    "def get_read_qc_df(dataset, lib_name, lib_stats_file):\n",
    "    df_input = pd.read_csv(lib_stats_file, header=None, skiprows=3, names=[\"read_type\", \"replicate\", \"read_num\"])\n",
    "    # filter out coverage rows from stats file\n",
    "    df_input = df_input.loc[df_input.read_type!=\"coverage\"]\n",
    "    # rename raw reads to include read pair information\n",
    "    df_input = df_input.apply(rename_raw_reads, axis=1)\n",
    "    df_input = df_input.pivot(index=[\"read_type\"], columns=[\"replicate\"], values=[\"read_num\"])\n",
    "    # only keep pair1\n",
    "    df_input_pair1 = df_input.loc[df_input.index.str.contains(\"pair1\")]\n",
    "    df_input_pair1.columns = [t[1] for t in df_input_pair1.columns]\n",
    "    # calculate unmapped reads\n",
    "    unmapped_reads_series = df_input_pair1.loc[\"raw_reads_pair1\"] - df_input_pair1.loc[\"aligned_reads_pair1\"]\n",
    "    unmapped_reads_series.name = \"unmapped_reads_pair1\"\n",
    "    # calculate deduped reads\n",
    "    deduped_reads_series = df_input_pair1.loc[\"aligned_reads_pair1\"] - df_input_pair1.loc[\"deduped_reads_pair1\"]\n",
    "    deduped_reads_series.name = \"deduped_reads_pair1\"\n",
    "    # calculate low qual reads\n",
    "    lowqual_reads_series = df_input_pair1.loc[\"deduped_reads_pair1\"] - df_input_pair1.loc[\"filtered_reads_pair1\"]\n",
    "    lowqual_reads_series.name = \"lowqual_reads_pair1\"\n",
    "    df_qc = pd.concat([deduped_reads_series, lowqual_reads_series, df_input_pair1.loc[\"filtered_reads_pair1\"]], axis=1)\n",
    "    df_qc = df_qc.div(df_input_pair1.loc[\"raw_reads_pair1\"], axis=0)*100\n",
    "    df_qc[\"library\"] = lib_name\n",
    "    df_qc[\"dataset\"] = dataset\n",
    "    return df_qc.reset_index().rename(columns={\"index\": \"replicates\"}).melt(id_vars=[\"dataset\", \"library\", \"replicates\"], var_name=\"read_type\", value_name=\"reads_percent\")"
   ]
  },
  {
   "cell_type": "code",
   "execution_count": 6,
   "metadata": {},
   "outputs": [],
   "source": [
    "lib_names = [\"input\", \"output\"]\n",
    "lib_stats_files = [\n",
    "    \"../data/wang/table/IN/stats.csv\", \n",
    "    \"../data/wang/table/OUT/stats.csv\"\n",
    "    ]"
   ]
  },
  {
   "cell_type": "code",
   "execution_count": 7,
   "metadata": {},
   "outputs": [],
   "source": [
    "read_qc_dfs = [get_read_qc_df(\"Wang_Kellis\", ln, lsf) for ln,lsf in zip(lib_names, lib_stats_files)]"
   ]
  },
  {
   "cell_type": "code",
   "execution_count": 8,
   "metadata": {},
   "outputs": [],
   "source": [
    "read_qc_df_wang_kellis = pd.concat(read_qc_dfs)"
   ]
  },
  {
   "cell_type": "markdown",
   "metadata": {},
   "source": [
    "# Johnson Reddy libraries"
   ]
  },
  {
   "cell_type": "code",
   "execution_count": 9,
   "metadata": {},
   "outputs": [],
   "source": [
    "lib_names = [\"input\", \"output\"]\n",
    "lib_stats_files = [\n",
    "    \"../data/johnson/table/IN/stats.csv\", \n",
    "    \"../data/johnson/table/OUT/stats.csv\"\n",
    "    ]\n",
    "\n",
    "read_qc_dfs = [get_read_qc_df(\"Johnson_Reddy\", ln, lsf) for ln,lsf in zip(lib_names, lib_stats_files)]\n",
    "\n"
   ]
  },
  {
   "cell_type": "code",
   "execution_count": 10,
   "metadata": {},
   "outputs": [],
   "source": [
    "read_qc_df_johnson_reddy = pd.concat(read_qc_dfs)"
   ]
  },
  {
   "cell_type": "code",
   "execution_count": 11,
   "metadata": {},
   "outputs": [],
   "source": [
    "read_qc_df = pd.concat([read_qc_df_our_lib, read_qc_df_wang_kellis, read_qc_df_johnson_reddy])"
   ]
  },
  {
   "attachments": {},
   "cell_type": "markdown",
   "metadata": {},
   "source": [
    "# Figure S2"
   ]
  },
  {
   "cell_type": "code",
   "execution_count": 12,
   "metadata": {},
   "outputs": [
    {
     "data": {
      "image/png": "[encoded data removed]",
      "text/plain": [
       "<Figure size 720.7x576 with 1 Axes>"
      ]
     },
     "metadata": {
      "needs_background": "light"
     },
     "output_type": "display_data"
    }
   ],
   "source": [
    "c = sns.catplot(\n",
    "    data=read_qc_df, \n",
    "    x=\"read_type\", \n",
    "    y=\"reads_percent\", \n",
    "    kind=\"bar\", \n",
    "    hue=\"dataset\", \n",
    "    edgecolor=\".1\",\n",
    "    aspect=1, \n",
    "    height=8, \n",
    "    dodge=True,\n",
    "    palette=\"Paired\",\n",
    "    )\n"
   ]
  },
  {
   "cell_type": "code",
   "execution_count": null,
   "metadata": {},
   "outputs": [],
   "source": []
  }
 ],
 "metadata": {
  "kernelspec": {
   "display_name": "Python 3.9.7 ('starrseq': conda)",
   "language": "python",
   "name": "python3"
  },
  "language_info": {
   "codemirror_mode": {
    "name": "ipython",
    "version": 3
   },
   "file_extension": ".py",
   "mimetype": "text/x-python",
   "name": "python",
   "nbconvert_exporter": "python",
   "pygments_lexer": "ipython3",
   "version": "3.9.7 | packaged by conda-forge | (default, Sep 29 2021, 19:20:46) \n[GCC 9.4.0]"
  },
  "orig_nbformat": 4,
  "vscode": {
   "interpreter": {
    "hash": "06856c2527dea3cf472b3c4994ec564df76496982852535c5a9520cd26601212"
   }
  }
 },
 "nbformat": 4,
 "nbformat_minor": 2
}
