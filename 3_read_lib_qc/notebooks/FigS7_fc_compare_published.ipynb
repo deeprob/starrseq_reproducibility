{
 "cells": [
  {
   "attachments": {},
   "cell_type": "markdown",
   "metadata": {},
   "source": [
    "# Create genomic windows"
   ]
  },
  {
   "cell_type": "code",
   "execution_count": null,
   "metadata": {},
   "outputs": [],
   "source": [
    "import pybedtools"
   ]
  },
  {
   "cell_type": "code",
   "execution_count": null,
   "metadata": {},
   "outputs": [],
   "source": [
    "hg38_chrom_sizes_file = \"../data/genome_file/GRCh38.chrom.sizes.simple.sorted\"\n",
    "hg38_genome_bed = pybedtools.BedTool().window_maker(g=hg38_chrom_sizes_file, w=500)\n",
    "hg38_genome_bed.moveto(\"../data/genome_file/GRCh38_window.bed\")"
   ]
  },
  {
   "attachments": {},
   "cell_type": "markdown",
   "metadata": {},
   "source": [
    "# Convert bigwig files to bed files"
   ]
  },
  {
   "attachments": {},
   "cell_type": "markdown",
   "metadata": {},
   "source": [
    "Example scripts to convert bigwig files to bed files for Johnson et. al. data\n",
    "\n",
    "```bash\n",
    "multiBigwigSummary BED-file -b ./GSM31318*_0hr_*.bw -o ./output.npz --BED ../genome_file/GRCh38_window.bed -p 4 --outRawCounts ./output0_rawcounts.tsv\n",
    "```\n",
    "\n",
    "```bash\n",
    "multiBigwigSummary BED-file -b ./GSM31318*_input_dna*.bw -o ./input.npz --BED ../genome_file/GRCh38_window.bed -p 4 --outRawCounts ./input_rawcounts.tsv\n",
    "```\n"
   ]
  },
  {
   "attachments": {},
   "cell_type": "markdown",
   "metadata": {},
   "source": [
    "# Compare same fragments activity from different studies"
   ]
  },
  {
   "cell_type": "code",
   "execution_count": null,
   "metadata": {},
   "outputs": [],
   "source": [
    "import os\n",
    "import numpy as np\n",
    "import pandas as pd\n",
    "import itertools as it\n",
    "import seaborn as sns\n",
    "from matplotlib.ticker import MultipleLocator\n",
    "import matplotlib\n",
    "import matplotlib.pyplot as plt"
   ]
  },
  {
   "cell_type": "code",
   "execution_count": null,
   "metadata": {},
   "outputs": [],
   "source": [
    "def parse_raw_counts(file):\n",
    "    df = pd.read_csv(file, sep=\"\\t\")\n",
    "    df.columns = [c.strip(\"#\").strip(\"'\") for c in df.columns]\n",
    "    df = df.set_index([\"chr\", \"start\", \"end\"]).fillna(0).mean(axis=1)\n",
    "    return df.sort_index()\n",
    "\n",
    "\n",
    "def normalize_df(df):\n",
    "    # make every fractional signal zero\n",
    "    df.loc[df<1] = 0\n",
    "    # # normalize signal\n",
    "    df = (df - df.min())/(df.max() - df.min())\n",
    "    # adding a pseudocount\n",
    "    df += 1\n",
    "    return df\n",
    "\n",
    "\n",
    "def get_fold_change_values(inrawcounts_file, outrawcounts_file):\n",
    "    in_df = parse_raw_counts(inrawcounts_file)\n",
    "    out_df = parse_raw_counts(outrawcounts_file)\n",
    "    # input normalized to take care of high and low mappability\n",
    "    in_df = normalize_df(in_df)\n",
    "    # out_df = normalize_df(out_df)\n",
    "    assert (in_df.index == out_df.index).all()\n",
    "    fc_df = out_df.div(in_df)\n",
    "    # fc_df.loc[~np.isfinite(fc_df)] = np.nan\n",
    "    return fc_df #.fillna(0)"
   ]
  },
  {
   "cell_type": "code",
   "execution_count": null,
   "metadata": {},
   "outputs": [],
   "source": [
    "jr_0_fc_df = get_fold_change_values(\n",
    "    \"../data/johnson/input_rawcounts.tsv\",\n",
    "    \"../data/johnson/output0_rawcounts.tsv\"\n",
    ")\n",
    "\n",
    "lg_hepg2_fc_df = parse_raw_counts(\"../data/Lee_Gerstein/hepg2_fc_rawcounts.tsv\")\n",
    "\n",
    "\n",
    "lg_k562_fc_df = parse_raw_counts(\"../data/Lee_Gerstein/k562_fc_rawcounts.tsv\")"
   ]
  },
  {
   "cell_type": "code",
   "execution_count": null,
   "metadata": {},
   "outputs": [],
   "source": [
    "fc_df = pd.concat((jr_0_fc_df, lg_hepg2_fc_df, lg_k562_fc_df), axis=1)\n",
    "fc_df.columns = [\"jr_0\", \"lg_hepg2\", \"lg_k562\"]\n",
    "fc_df.corr().to_csv(\"../data/wgs_corr_compare_pearson.csv\")\n",
    "fc_df.corr(method=\"spearman\").to_csv(\"../data/wgs_corr_compare_spearman.csv\")\n",
    "\n"
   ]
  },
  {
   "cell_type": "code",
   "execution_count": null,
   "metadata": {},
   "outputs": [],
   "source": [
    "fc_df_transformed2 = pd.DataFrame(np.log2(fc_df.loc[(fc_df>0).all(axis=1)]), columns=fc_df.columns)\n"
   ]
  },
  {
   "attachments": {},
   "cell_type": "markdown",
   "metadata": {},
   "source": [
    "# Fig S7"
   ]
  },
  {
   "cell_type": "code",
   "execution_count": null,
   "metadata": {},
   "outputs": [],
   "source": [
    "g = sns.pairplot(fc_df_transformed2, diag_kind=\"kde\", plot_kws={\"s\": 0.5, 'alpha': 0.05})\n",
    "for a in g.fig.axes:\n",
    "    if len(a.collections)==1:\n",
    "        a.collections[0].set_rasterized(True)"
   ]
  }
 ],
 "metadata": {
  "kernelspec": {
   "display_name": "starrseq",
   "language": "python",
   "name": "python3"
  },
  "language_info": {
   "name": "python",
   "version": "3.9.7 | packaged by conda-forge | (default, Sep 29 2021, 19:20:46) \n[GCC 9.4.0]"
  },
  "orig_nbformat": 4,
  "vscode": {
   "interpreter": {
    "hash": "06856c2527dea3cf472b3c4994ec564df76496982852535c5a9520cd26601212"
   }
  }
 },
 "nbformat": 4,
 "nbformat_minor": 2
}
